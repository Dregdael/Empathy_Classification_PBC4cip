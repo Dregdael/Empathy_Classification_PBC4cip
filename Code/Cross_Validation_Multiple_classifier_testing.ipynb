{
  "nbformat": 4,
  "nbformat_minor": 0,
  "metadata": {
    "colab": {
      "provenance": []
    },
    "kernelspec": {
      "name": "python3",
      "display_name": "Python 3"
    },
    "language_info": {
      "name": "python"
    }
  },
  "cells": [
    {
      "cell_type": "markdown",
      "source": [
        "# Cross Validation Multiple classifier testing\n",
        "\n",
        "In this document, we can apply multiple classifiers for empathy and obtain the average metrics for each of the folds. The folds have been previously managed by WEKA. We have five available folds each divided into a training and testing dataset using the following format:\n",
        "\n",
        "*   Empathyabase-'+(number of fold)+'tra.csv  for the training set\n",
        "*   Empathyabase-'+(number of fold)+'tst.csv  for the test set\n",
        "\n",
        "In this document, we carry out multi-fold analysis and obtain an average performance review of all the classifiers in conjunction. The output includes a document for each of the folds that contains all the patterns obtained from the PBC4cip classifier, as well as their confusion matrices and three classification metrics. The format for this output files are:\n",
        "\n",
        "*   PBC4CIP_values_'+(number of fold)+'.txt\n",
        "\n",
        "\n",
        "### WARNING: The PBC4cip python implementation takes a long time to run. Around an hour per fold. It is much more maneagable to carry out the classification process using this specific classifier in WEKA\n",
        "\n"
      ],
      "metadata": {
        "id": "CqtmuAP-5Hte"
      }
    },
    {
      "cell_type": "code",
      "metadata": {
        "colab": {
          "base_uri": "https://localhost:8080/"
        },
        "id": "k5321bQJiiGy",
        "outputId": "2089de19-f92e-42e4-b6c7-14525a2b4d9a"
      },
      "source": [
        "pip install pbc4cip"
      ],
      "execution_count": 1,
      "outputs": [
        {
          "output_type": "stream",
          "name": "stdout",
          "text": [
            "Collecting pbc4cip\n",
            "  Downloading PBC4cip-0.0.0.8-py3-none-any.whl (57 kB)\n",
            "\u001b[?25l     \u001b[90m━━━━━━━━━━━━━━━━━━━━━━━━━━━━━━━━━━━━━━━━\u001b[0m \u001b[32m0.0/57.4 kB\u001b[0m \u001b[31m?\u001b[0m eta \u001b[36m-:--:--\u001b[0m\r\u001b[2K     \u001b[90m━━━━━━━━━━━━━━━━━━━━━━━━━━━━━━━━━━━━━━━━\u001b[0m \u001b[32m57.4/57.4 kB\u001b[0m \u001b[31m1.9 MB/s\u001b[0m eta \u001b[36m0:00:00\u001b[0m\n",
            "\u001b[?25hRequirement already satisfied: numpy in /usr/local/lib/python3.10/dist-packages (from pbc4cip) (1.22.4)\n",
            "Requirement already satisfied: pandas in /usr/local/lib/python3.10/dist-packages (from pbc4cip) (1.5.3)\n",
            "Requirement already satisfied: scikit-learn in /usr/local/lib/python3.10/dist-packages (from pbc4cip) (1.2.2)\n",
            "Requirement already satisfied: tqdm in /usr/local/lib/python3.10/dist-packages (from pbc4cip) (4.65.0)\n",
            "Requirement already satisfied: python-dateutil>=2.8.1 in /usr/local/lib/python3.10/dist-packages (from pandas->pbc4cip) (2.8.2)\n",
            "Requirement already satisfied: pytz>=2020.1 in /usr/local/lib/python3.10/dist-packages (from pandas->pbc4cip) (2022.7.1)\n",
            "Requirement already satisfied: scipy>=1.3.2 in /usr/local/lib/python3.10/dist-packages (from scikit-learn->pbc4cip) (1.10.1)\n",
            "Requirement already satisfied: joblib>=1.1.1 in /usr/local/lib/python3.10/dist-packages (from scikit-learn->pbc4cip) (1.3.1)\n",
            "Requirement already satisfied: threadpoolctl>=2.0.0 in /usr/local/lib/python3.10/dist-packages (from scikit-learn->pbc4cip) (3.2.0)\n",
            "Requirement already satisfied: six>=1.5 in /usr/local/lib/python3.10/dist-packages (from python-dateutil>=2.8.1->pandas->pbc4cip) (1.16.0)\n",
            "Installing collected packages: pbc4cip\n",
            "Successfully installed pbc4cip-0.0.0.8\n"
          ]
        }
      ]
    },
    {
      "cell_type": "code",
      "metadata": {
        "id": "deRuJHCogisr"
      },
      "source": [
        "#Importing of libraries necessary for classification and manipulation of database.\n",
        "\n",
        "import pandas as pd\n",
        "import numpy as np\n",
        "from sklearn.metrics import classification_report\n",
        "from sklearn.metrics import confusion_matrix\n",
        "from sklearn.metrics import accuracy_score\n",
        "from sklearn.metrics import roc_auc_score\n",
        "from sklearn.preprocessing import StandardScaler, LabelEncoder\n",
        "from sklearn.model_selection import train_test_split\n",
        "from sklearn.model_selection import cross_val_score\n",
        "from sklearn.model_selection import StratifiedKFold\n",
        "from sklearn.model_selection import GridSearchCV\n",
        "from sklearn.pipeline import make_pipeline\n",
        "from sklearn.ensemble import RandomForestClassifier\n",
        "from sklearn.model_selection import cross_val_predict\n",
        "from sklearn.metrics import recall_score\n",
        "from sklearn.neighbors import KNeighborsClassifier\n",
        "from sklearn.svm import OneClassSVM\n",
        "from sklearn.metrics import precision_score\n",
        "from sklearn.svm import SVC\n",
        "from sklearn.neural_network import MLPClassifier\n",
        "import xgboost as xgb\n",
        "from xgboost import XGBClassifier\n",
        "from sklearn.naive_bayes import GaussianNB\n",
        "from sklearn.feature_extraction.text import CountVectorizer, TfidfVectorizer\n",
        "from gensim.test.utils import common_texts\n",
        "from string import punctuation\n",
        "import numpy as np\n",
        "from gensim.models import Word2Vec, KeyedVectors\n",
        "import gensim\n",
        "import gensim.downloader as gensim_api\n",
        "import matplotlib.pyplot as plt\n",
        "from sklearn.tree import DecisionTreeClassifier\n",
        "from sklearn.linear_model import LogisticRegression\n",
        "from sklearn.model_selection import StratifiedKFold\n",
        "from sklearn.model_selection import train_test_split\n",
        "\n",
        "from PBC4cip import PBC4cip\n",
        "import os\n",
        "import argparse\n",
        "import numpy as np\n",
        "import pandas as pd\n",
        "\n",
        "from tqdm import tqdm, trange\n",
        "from PBC4cip import PBC4cip\n",
        "from PBC4cip.core.Evaluation import obtainAUCMulticlass\n",
        "from PBC4cip.core.Helpers import get_col_dist, get_idx_val\n"
      ],
      "execution_count": 2,
      "outputs": []
    },
    {
      "cell_type": "markdown",
      "source": [
        "## Creation of classifiers"
      ],
      "metadata": {
        "id": "Z6fzKMzY8av2"
      }
    },
    {
      "cell_type": "code",
      "metadata": {
        "id": "UPRbQW8mh4kE"
      },
      "source": [
        "#Creation of classifiers\n",
        "rfc = RandomForestClassifier(max_depth=10, random_state=0)\n",
        "knn = KNeighborsClassifier(n_neighbors=5)\n",
        "#lreg = LogisticRegression(random_state = 0, penalty = 'l2')\n",
        "GNB = GaussianNB()\n",
        "dtc = DecisionTreeClassifier(random_state=0)\n",
        "xb = XGBClassifier()\n",
        "nn = MLPClassifier()\n",
        "pbc = PBC4cip(tree_count = 100) # 100 tree cound og\n",
        "\n",
        "\n",
        "#Generation of classification array\n",
        "classifiers = [rfc,knn,GNB,dtc,nn,pbc]\n",
        "#classifiers = [rfc,knn,GNB,dtc,nn]  # NO PBC4cip\n",
        "#For visualization of classification array\n",
        "#class_names = ['Random Forest','KNN','Gaussian NB','dtc','MLP'] #NO PBC4cip\n",
        "class_names = ['Random Forest','KNN','Gaussian NB','dtc','MLP','PBC4CIP']"
      ],
      "execution_count": 3,
      "outputs": []
    },
    {
      "cell_type": "markdown",
      "source": [
        "## Classification"
      ],
      "metadata": {
        "id": "Vd4UtILm8hxp"
      }
    },
    {
      "cell_type": "code",
      "metadata": {
        "colab": {
          "base_uri": "https://localhost:8080/"
        },
        "id": "v-QQ5W_WizlL",
        "outputId": "f96f7e1f-e437-4a91-86f9-3ea39c4d714b"
      },
      "source": [
        "#Values for performance measures on each of the classifiers is stored in the arrays\n",
        "acc_array_skf = []\n",
        "rec_array_skf= []\n",
        "auc_array_skf = []\n",
        "pre_array_skf = []\n",
        "\n",
        "\n",
        "#Scoring function for PBC4CIP\n",
        "def score(predicted, y):\n",
        "        y_class_dist = get_col_dist(y[f'{y.columns[0]}'])\n",
        "        real = list(map(lambda instance: get_idx_val(y_class_dist, instance), y[f'{y.columns[0]}']))\n",
        "        numClasses = len(y_class_dist)\n",
        "        confusion = [[0]* numClasses for i in range(numClasses)]\n",
        "        classified_as = 0\n",
        "        error_count = 0\n",
        "\n",
        "        for i in range(len(real)):\n",
        "            if real[i] != predicted[i]:\n",
        "                error_count = error_count + 1\n",
        "            confusion[real[i]][predicted[i]] = confusion[real[i]][predicted[i]] + 1\n",
        "\n",
        "        acc = 100.0 * (len(real) - error_count) / len(real)\n",
        "        auc = obtainAUCMulticlass(confusion, numClasses)\n",
        "\n",
        "        return confusion, acc, auc\n",
        "\n",
        "\n",
        "for cls in classifiers:\n",
        "  #Values for each classifier are stored in the array\n",
        "  acc_list = []\n",
        "  recall_list = []\n",
        "  precision_list = []\n",
        "  auc_list = []\n",
        "\n",
        "  #For each of the folds\n",
        "\n",
        "  for i in range(1,2):\n",
        "\n",
        "    data_tra = pd.read_csv('Empathyabase-'+str(i)+'tra.csv')\n",
        "    data_tst = pd.read_csv('Empathyabase-'+str(i)+'tst.csv')\n",
        "\n",
        "    #print(data_tra.columns)\n",
        "\n",
        "    #Preparation\n",
        "    # We ensure that the variables are taken as categories and not integers or floats\n",
        "\n",
        "    data_tra['Empathy'] = data_tra['Empathy'].astype('string')\n",
        "    data_tra[\"utterance_idx\"] = data_tra[\"utterance_idx\"].astype('category')\n",
        "    data_tra[\"Talker\"] = data_tra[\"Talker\"].astype('category')\n",
        "    data_tra[\"context_encoded\"] = data_tra[\"context_encoded\"].astype('category')\n",
        "\n",
        "    data_tst['Empathy'] = data_tst['Empathy'].astype('string')\n",
        "    data_tst[\"utterance_idx\"] = data_tst[\"utterance_idx\"].astype('category')\n",
        "    data_tst[\"Talker\"] = data_tst[\"Talker\"].astype('category')\n",
        "    data_tst[\"context_encoded\"] = data_tst[\"context_encoded\"].astype('category')\n",
        "\n",
        "\n",
        "    #Separate target values for both training and testing\n",
        "\n",
        "    X1_train = data_tra.drop(columns=['Empathy'])\n",
        "    Y1_train = data_tra.drop(columns=X1_train.columns)\n",
        "\n",
        "    X1_test = data_tst.drop(columns=['Empathy'])\n",
        "    Y1_test = data_tst.drop(columns=X1_test.columns)\n",
        "\n",
        "\n",
        "    #For each classifier\n",
        "    if str(type(cls)) != \"<class 'PBC4cip.core.PBC4cip.PBC4cip'>\":\n",
        "      # Sci-kit statistical classifiers\n",
        "\n",
        "      cls.fit(X1_train,Y1_train)\n",
        "\n",
        "      y_pred = cls.predict(X1_test)\n",
        "      acc_score = accuracy_score(Y1_test,y_pred)\n",
        "      recall_sc = recall_score(Y1_test,y_pred,average='weighted')\n",
        "      prec_score = precision_score(Y1_test,y_pred,average='weighted')\n",
        "\n",
        "      pred_prob = cls.predict_proba(X1_test)\n",
        "\n",
        "      pred_prob_lst = []\n",
        "      for row in pred_prob:\n",
        "        arr = []\n",
        "        for ele in row:\n",
        "          arr.append(float(ele))\n",
        "        pred_prob_lst.append(arr)\n",
        "      auc_sc = roc_auc_score(Y1_test['Empathy'], pred_prob_lst,multi_class='ovr')\n",
        "\n",
        "      acc_list.append(acc_score)\n",
        "      recall_list.append(recall_sc)\n",
        "      precision_list.append(prec_score)\n",
        "      auc_list.append(auc_sc)\n",
        "\n",
        "    else:\n",
        "      #PBC4CIP\n",
        "      patterns = cls.fit(X1_train, Y1_train)\n",
        "\n",
        "      y_test_scores = cls.score_samples(X1_test)\n",
        "\n",
        "      with open('PBC4CIP_values_'+str(i)+'.txt', 'w') as f:\n",
        "        print('Test Scores:', file=f)\n",
        "\n",
        "        for i, test_score in enumerate(y_test_scores):\n",
        "            print(f\"{i}: {test_score}\",file=f)\n",
        "\n",
        "        y_pred = cls.predict(X1_test)\n",
        "        confusion, acc, auc = score(y_pred, Y1_test)\n",
        "        acc_list.append(acc/100)\n",
        "        auc_list.append(auc)\n",
        "        y_pred2 = y_pred\n",
        "\n",
        "        for i in range(len(y_pred)):\n",
        "          y_pred2[i] = str(y_pred[i])\n",
        "\n",
        "        y_pred2 = pd.DataFrame(y_pred2)\n",
        "\n",
        "        recall_list.append(recall_score(Y1_test, y_pred2, average='weighted'))\n",
        "        precision_list.append(precision_score(Y1_test, y_pred2, average='weighted'))\n",
        "\n",
        "\n",
        "        print(f\"\\nPatterns Found:\",file=f)\n",
        "        for pattern in patterns:\n",
        "            print(f\"{pattern}\",file=f)\n",
        "\n",
        "        print(f\"\\nConfusion Matrix:\",file=f)\n",
        "        for i in range(len(confusion[0])):\n",
        "            for j in range(len(confusion[0])):\n",
        "                print(f\"{confusion[i][j]} \", end='',file=f)\n",
        "            print(\"\",file=f)\n",
        "        print(f\"\\n\\nacc: {acc} , auc: {auc} , numPatterns: {len(patterns)}\",file=f)\n",
        "\n",
        "  # Appending to the overall metric array for each classifier\n",
        "  acc_array_skf.append(np.array(acc_list).mean())\n",
        "  rec_array_skf.append(np.array(recall_list).mean())\n",
        "  auc_array_skf.append(np.array(auc_list).mean())\n",
        "  pre_array_skf.append(np.array(precision_list).mean())"
      ],
      "execution_count": 5,
      "outputs": [
        {
          "output_type": "stream",
          "name": "stderr",
          "text": [
            "<ipython-input-5-c0a58bf9fdf3>:71: DataConversionWarning: A column-vector y was passed when a 1d array was expected. Please change the shape of y to (n_samples,), for example using ravel().\n",
            "  cls.fit(X1_train,Y1_train)\n"
          ]
        }
      ]
    },
    {
      "cell_type": "markdown",
      "source": [
        " ## Result display"
      ],
      "metadata": {
        "id": "4P61z9pc9k1N"
      }
    },
    {
      "cell_type": "code",
      "metadata": {
        "id": "GafbQ0RHysrR",
        "colab": {
          "base_uri": "https://localhost:8080/",
          "height": 1000
        },
        "outputId": "f6101d3e-c981-467c-dfaa-8bde60a28c96"
      },
      "source": [
        "#Results for the average performance through the five folds.\n",
        "for i in range(0,len(rec_array_skf)):\n",
        "  print(type(classifiers[i]).__name__)\n",
        "  print()\n",
        "  print('Average Accuracy: '+str(acc_array_skf[i]))\n",
        "  print()\n",
        "  print('Average Recall: '+ str(rec_array_skf[i]))\n",
        "  print()\n",
        "  print('Average AUC: '+ str(auc_array_skf[i]))\n",
        "  print()\n",
        "  print('Average Precision: '+ str(pre_array_skf[i]))\n",
        "  print()\n",
        "  print(\"~~~~~~~~~~~~~~~~~~~~~~~~~~~~~~~~~~~~~~~~~~~~~~~~~~~~~~~~\")\n",
        "\n",
        "\n",
        "#Bar plot\n",
        "plotdata = pd.DataFrame({\n",
        "    \"Avg Accuracy\": acc_array_skf,\n",
        "    \"Avg Recall\": rec_array_skf,\n",
        "    \"Avg AUC\": auc_array_skf,\n",
        "    \"Avg Precision\": pre_array_skf,\n",
        "    },\n",
        "    index=class_names\n",
        ")\n",
        "plotdata.plot(kind=\"bar\")\n",
        "plt.title(\"Classification metrics Stratified 5-fold\")\n",
        "plt.xlabel(\"Classifier\")"
      ],
      "execution_count": 6,
      "outputs": [
        {
          "output_type": "stream",
          "name": "stdout",
          "text": [
            "RandomForestClassifier\n",
            "\n",
            "Average Accuracy: 0.4956268221574344\n",
            "\n",
            "Average Recall: 0.4956268221574344\n",
            "\n",
            "Average AUC: 0.6505283651588132\n",
            "\n",
            "Average Precision: 0.4754789670970429\n",
            "\n",
            "~~~~~~~~~~~~~~~~~~~~~~~~~~~~~~~~~~~~~~~~~~~~~~~~~~~~~~~~\n",
            "KNeighborsClassifier\n",
            "\n",
            "Average Accuracy: 0.43731778425655976\n",
            "\n",
            "Average Recall: 0.43731778425655976\n",
            "\n",
            "Average AUC: 0.5627533323422176\n",
            "\n",
            "Average Precision: 0.4139462255217486\n",
            "\n",
            "~~~~~~~~~~~~~~~~~~~~~~~~~~~~~~~~~~~~~~~~~~~~~~~~~~~~~~~~\n",
            "GaussianNB\n",
            "\n",
            "Average Accuracy: 0.13411078717201166\n",
            "\n",
            "Average Recall: 0.13411078717201166\n",
            "\n",
            "Average AUC: 0.5207490517234963\n",
            "\n",
            "Average Precision: 0.31280933421708096\n",
            "\n",
            "~~~~~~~~~~~~~~~~~~~~~~~~~~~~~~~~~~~~~~~~~~~~~~~~~~~~~~~~\n",
            "DecisionTreeClassifier\n",
            "\n",
            "Average Accuracy: 0.446064139941691\n",
            "\n",
            "Average Recall: 0.446064139941691\n",
            "\n",
            "Average AUC: 0.5478050626308931\n",
            "\n",
            "Average Precision: 0.43510048382544225\n",
            "\n",
            "~~~~~~~~~~~~~~~~~~~~~~~~~~~~~~~~~~~~~~~~~~~~~~~~~~~~~~~~\n",
            "MLPClassifier\n",
            "\n",
            "Average Accuracy: 0.45481049562682213\n",
            "\n",
            "Average Recall: 0.45481049562682213\n",
            "\n",
            "Average AUC: 0.5957395198123017\n",
            "\n",
            "Average Precision: 0.48985143609716525\n",
            "\n",
            "~~~~~~~~~~~~~~~~~~~~~~~~~~~~~~~~~~~~~~~~~~~~~~~~~~~~~~~~\n",
            "PBC4cip\n",
            "\n",
            "Average Accuracy: 0.3877551020408163\n",
            "\n",
            "Average Recall: 0.20699708454810495\n",
            "\n",
            "Average AUC: 0.7437314185069852\n",
            "\n",
            "Average Precision: 0.30565246287416975\n",
            "\n",
            "~~~~~~~~~~~~~~~~~~~~~~~~~~~~~~~~~~~~~~~~~~~~~~~~~~~~~~~~\n"
          ]
        },
        {
          "output_type": "execute_result",
          "data": {
            "text/plain": [
              "Text(0.5, 0, 'Classifier')"
            ]
          },
          "metadata": {},
          "execution_count": 6
        },
        {
          "output_type": "display_data",
          "data": {
            "text/plain": [
              "<Figure size 640x480 with 1 Axes>"
            ],
            "image/png": "[encoded data removed]"
          },
          "metadata": {}
        }
      ]
    }
  ]
}